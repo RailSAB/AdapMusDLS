{
 "cells": [
  {
   "cell_type": "code",
   "execution_count": 8,
   "id": "cc59f43f",
   "metadata": {},
   "outputs": [],
   "source": [
    "import pandas as pd\n",
    "\n",
    "df = pd.read_csv('youtube-cc-by-music_annoted.csv')"
   ]
  },
  {
   "cell_type": "code",
   "execution_count": 9,
   "id": "26e5faf7",
   "metadata": {},
   "outputs": [
    {
     "data": {
      "text/html": [
       "<div>\n",
       "<style scoped>\n",
       "    .dataframe tbody tr th:only-of-type {\n",
       "        vertical-align: middle;\n",
       "    }\n",
       "\n",
       "    .dataframe tbody tr th {\n",
       "        vertical-align: top;\n",
       "    }\n",
       "\n",
       "    .dataframe thead th {\n",
       "        text-align: right;\n",
       "    }\n",
       "</style>\n",
       "<table border=\"1\" class=\"dataframe\">\n",
       "  <thead>\n",
       "    <tr style=\"text-align: right;\">\n",
       "      <th></th>\n",
       "      <th>url</th>\n",
       "      <th>title</th>\n",
       "      <th>author</th>\n",
       "      <th>description</th>\n",
       "      <th>genre</th>\n",
       "      <th>album</th>\n",
       "      <th>tags</th>\n",
       "      <th>prompt</th>\n",
       "    </tr>\n",
       "  </thead>\n",
       "  <tbody>\n",
       "    <tr>\n",
       "      <th>0</th>\n",
       "      <td>https://www.youtube.com/watch?v=7qYEtYr7Zaw</td>\n",
       "      <td>Shola Emmanuel's Afro-Jazz Band w JeSeth Ponte...</td>\n",
       "      <td>EOP Live</td>\n",
       "      <td>Recorded live @ Red Clay Music Foundry 1/07/20...</td>\n",
       "      <td>NaN</td>\n",
       "      <td>NaN</td>\n",
       "      <td>Afro, Jazz, Shola, Emmanuel, Hailun, EOP, Live...</td>\n",
       "      <td>An Afro-Jazz ensemble featuring a blend of tra...</td>\n",
       "    </tr>\n",
       "    <tr>\n",
       "      <th>1</th>\n",
       "      <td>https://www.youtube.com/watch?v=4Avi7bLvyDg</td>\n",
       "      <td>Full Circle - Nogales (1977)</td>\n",
       "      <td>JazzMan Dean</td>\n",
       "      <td>Full Circle – Full Circle\\r\\n Label: Bean Reco...</td>\n",
       "      <td>NaN</td>\n",
       "      <td>NaN</td>\n",
       "      <td>NaN</td>\n",
       "      <td>A Jazz-Funk album from the 1970s with Latin Ja...</td>\n",
       "    </tr>\n",
       "    <tr>\n",
       "      <th>2</th>\n",
       "      <td>https://www.youtube.com/watch?v=TzeUPtlmIag</td>\n",
       "      <td>10 Hours Of Relaxing Saxophone Music For Sleep...</td>\n",
       "      <td>Personal Wellness: Tips For Health &amp; Well-Being</td>\n",
       "      <td>10 Hours Of Relaxing Saxophone Music For Sleep...</td>\n",
       "      <td>NaN</td>\n",
       "      <td>NaN</td>\n",
       "      <td>saxophone music for sleep, deep sleep, relaxin...</td>\n",
       "      <td>A soothing saxophone music track with a fade t...</td>\n",
       "    </tr>\n",
       "    <tr>\n",
       "      <th>3</th>\n",
       "      <td>https://www.youtube.com/watch?v=LIw1ESHLZ6g</td>\n",
       "      <td>Shola Emmanuel's Afro-Jazz Band Modupe  Lady  ...</td>\n",
       "      <td>EOP Live</td>\n",
       "      <td>Recorded live @ Red Clay Music Foundry 1/07/20...</td>\n",
       "      <td>NaN</td>\n",
       "      <td>NaN</td>\n",
       "      <td>Afro, Jazz, Shola, Emmanuel, Hailun, EOP, Live...</td>\n",
       "      <td>An Afro-Jazz ensemble featuring a blend of tra...</td>\n",
       "    </tr>\n",
       "    <tr>\n",
       "      <th>4</th>\n",
       "      <td>https://www.youtube.com/watch?v=f8oWL1Ft8Kc</td>\n",
       "      <td>#1.Afrojazz (trumpet) at Kippies jhb 1999.vhs ...</td>\n",
       "      <td>AZANIAN JAHMAN</td>\n",
       "      <td>#1. Afro-jazz at Kippies music venue in Johann...</td>\n",
       "      <td>NaN</td>\n",
       "      <td>NaN</td>\n",
       "      <td>ジョゼフンコシ, 南アフリカ, アフリカ, african, ジョセフ・ンコシ, guita...</td>\n",
       "      <td>An indie jazz track from 1999 South Africa, fe...</td>\n",
       "    </tr>\n",
       "  </tbody>\n",
       "</table>\n",
       "</div>"
      ],
      "text/plain": [
       "                                           url  \\\n",
       "0  https://www.youtube.com/watch?v=7qYEtYr7Zaw   \n",
       "1  https://www.youtube.com/watch?v=4Avi7bLvyDg   \n",
       "2  https://www.youtube.com/watch?v=TzeUPtlmIag   \n",
       "3  https://www.youtube.com/watch?v=LIw1ESHLZ6g   \n",
       "4  https://www.youtube.com/watch?v=f8oWL1Ft8Kc   \n",
       "\n",
       "                                               title  \\\n",
       "0  Shola Emmanuel's Afro-Jazz Band w JeSeth Ponte...   \n",
       "1                       Full Circle - Nogales (1977)   \n",
       "2  10 Hours Of Relaxing Saxophone Music For Sleep...   \n",
       "3  Shola Emmanuel's Afro-Jazz Band Modupe  Lady  ...   \n",
       "4  #1.Afrojazz (trumpet) at Kippies jhb 1999.vhs ...   \n",
       "\n",
       "                                            author  \\\n",
       "0                                         EOP Live   \n",
       "1                                     JazzMan Dean   \n",
       "2  Personal Wellness: Tips For Health & Well-Being   \n",
       "3                                         EOP Live   \n",
       "4                                   AZANIAN JAHMAN   \n",
       "\n",
       "                                         description  genre  album  \\\n",
       "0  Recorded live @ Red Clay Music Foundry 1/07/20...    NaN    NaN   \n",
       "1  Full Circle – Full Circle\\r\\n Label: Bean Reco...    NaN    NaN   \n",
       "2  10 Hours Of Relaxing Saxophone Music For Sleep...    NaN    NaN   \n",
       "3  Recorded live @ Red Clay Music Foundry 1/07/20...    NaN    NaN   \n",
       "4  #1. Afro-jazz at Kippies music venue in Johann...    NaN    NaN   \n",
       "\n",
       "                                                tags  \\\n",
       "0  Afro, Jazz, Shola, Emmanuel, Hailun, EOP, Live...   \n",
       "1                                                NaN   \n",
       "2  saxophone music for sleep, deep sleep, relaxin...   \n",
       "3  Afro, Jazz, Shola, Emmanuel, Hailun, EOP, Live...   \n",
       "4  ジョゼフンコシ, 南アフリカ, アフリカ, african, ジョセフ・ンコシ, guita...   \n",
       "\n",
       "                                              prompt  \n",
       "0  An Afro-Jazz ensemble featuring a blend of tra...  \n",
       "1  A Jazz-Funk album from the 1970s with Latin Ja...  \n",
       "2  A soothing saxophone music track with a fade t...  \n",
       "3  An Afro-Jazz ensemble featuring a blend of tra...  \n",
       "4  An indie jazz track from 1999 South Africa, fe...  "
      ]
     },
     "execution_count": 9,
     "metadata": {},
     "output_type": "execute_result"
    }
   ],
   "source": [
    "df.head()"
   ]
  },
  {
   "cell_type": "code",
   "execution_count": 12,
   "id": "71c223c3",
   "metadata": {},
   "outputs": [
    {
     "name": "stdout",
     "output_type": "stream",
     "text": [
      "(50026, 8)\n",
      "Index(['url', 'title', 'author', 'description', 'genre', 'album', 'tags',\n",
      "       'prompt'],\n",
      "      dtype='object')\n",
      "url             object\n",
      "title           object\n",
      "author          object\n",
      "description     object\n",
      "genre          float64\n",
      "album          float64\n",
      "tags            object\n",
      "prompt          object\n",
      "dtype: object\n",
      "url                0\n",
      "title              0\n",
      "author             0\n",
      "description     1586\n",
      "genre          50026\n",
      "album          50026\n",
      "tags            7155\n",
      "prompt             0\n",
      "dtype: int64\n"
     ]
    }
   ],
   "source": [
    "print(df.shape)\n",
    "print(df.columns)\n",
    "print(df.dtypes)\n",
    "print(df.isna().sum())"
   ]
  },
  {
   "cell_type": "code",
   "execution_count": 13,
   "id": "18f11dd5",
   "metadata": {},
   "outputs": [],
   "source": [
    "df = df.drop(columns=[\"genre\", \"album\"])"
   ]
  },
  {
   "cell_type": "code",
   "execution_count": null,
   "id": "c68419db",
   "metadata": {},
   "outputs": [
    {
     "data": {
      "text/plain": [
       "author\n",
       "wikipedia tts                            306\n",
       "Creative Commons Music and Audio         241\n",
       "TeknoAXE's Royalty Free Music            224\n",
       "Music For Dreams                         183\n",
       "Royalty Free Music — Creative Commons    182\n",
       "                                        ... \n",
       "FREDINHO NEWS                              1\n",
       "oseias william                             1\n",
       "Deejay Tiago Mel                           1\n",
       "Modo Wesley Músico                         1\n",
       "LionFire42                                 1\n",
       "Name: count, Length: 25664, dtype: int64"
      ]
     },
     "execution_count": 19,
     "metadata": {},
     "output_type": "execute_result"
    }
   ],
   "source": [
    "df['author'].value_counts()"
   ]
  },
  {
   "cell_type": "code",
   "execution_count": null,
   "id": "df6b3fa0",
   "metadata": {},
   "outputs": [],
   "source": []
  }
 ],
 "metadata": {
  "kernelspec": {
   "display_name": "Python 3",
   "language": "python",
   "name": "python3"
  },
  "language_info": {
   "codemirror_mode": {
    "name": "ipython",
    "version": 3
   },
   "file_extension": ".py",
   "mimetype": "text/x-python",
   "name": "python",
   "nbconvert_exporter": "python",
   "pygments_lexer": "ipython3",
   "version": "3.9.6"
  }
 },
 "nbformat": 4,
 "nbformat_minor": 5
}
